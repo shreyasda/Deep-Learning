{
  "nbformat": 4,
  "nbformat_minor": 0,
  "metadata": {
    "colab": {
      "provenance": []
    },
    "kernelspec": {
      "name": "python3",
      "display_name": "Python 3"
    },
    "language_info": {
      "name": "python"
    }
  },
  "cells": [
    {
      "cell_type": "code",
      "source": [
        "import numpy as np\n",
        "import pandas as pd\n",
        "from sklearn.model_selection import train_test_split\n",
        "from sklearn.linear_model import Lasso\n",
        "from sklearn.metrics import mean_squared_error\n",
        "from sklearn.datasets import load_boston\n",
        "import matplotlib.pyplot as plt\n"
      ],
      "metadata": {
        "id": "cDLTBcoIfq2G"
      },
      "execution_count": null,
      "outputs": []
    },
    {
      "cell_type": "code",
      "source": [
        "# Load Boston Housing dataset\n",
        "boston = load_boston()\n",
        "data = pd.DataFrame(boston.data, columns=boston.feature_names)\n",
        "data['PRICE'] = boston.target\n",
        "\n",
        "# Display the first few rows of the dataset\n",
        "print(data.head())\n"
      ],
      "metadata": {
        "id": "DME4UKB7frwq"
      },
      "execution_count": null,
      "outputs": []
    },
    {
      "cell_type": "code",
      "source": [
        "# Split the data into features (X) and target variable (y)\n",
        "X = data.drop('PRICE', axis=1)\n",
        "y = data['PRICE']\n",
        "\n",
        "# Split the data into training and testing sets\n",
        "X_train, X_test, y_train, y_test = train_test_split(X, y, test_size=0.2, random_state=42)\n"
      ],
      "metadata": {
        "id": "aBtEqMJBft0Z"
      },
      "execution_count": null,
      "outputs": []
    },
    {
      "cell_type": "code",
      "source": [
        "# Initialize Lasso regression model\n",
        "lasso_model = Lasso(alpha=0.1)  # alpha is the regularization strength\n",
        "\n",
        "# Train the model\n",
        "lasso_model.fit(X_train, y_train)\n"
      ],
      "metadata": {
        "id": "Wtyu61Tffw2k"
      },
      "execution_count": null,
      "outputs": []
    },
    {
      "cell_type": "code",
      "source": [
        "# Make predictions on the test set\n",
        "y_pred = lasso_model.predict(X_test)\n",
        "\n",
        "# Calculate and print the Mean Squared Error (MSE)\n",
        "mse = mean_squared_error(y_test, y_pred)\n",
        "print(f'Mean Squared Error: {mse}')\n"
      ],
      "metadata": {
        "id": "4yC33bO2fyZG"
      },
      "execution_count": null,
      "outputs": []
    },
    {
      "cell_type": "code",
      "source": [
        "# Display the coefficients and their corresponding features\n",
        "coefficients = pd.DataFrame({'Feature': X.columns, 'Coefficient': lasso_model.coef_})\n",
        "print(coefficients)\n"
      ],
      "metadata": {
        "id": "7tUJbKQUf0Zy"
      },
      "execution_count": null,
      "outputs": []
    },
    {
      "cell_type": "code",
      "source": [
        "# Plot the coefficients\n",
        "plt.figure(figsize=(10, 6))\n",
        "plt.bar(coefficients['Feature'], coefficients['Coefficient'])\n",
        "plt.xlabel('Features')\n",
        "plt.ylabel('Coefficient Value')\n",
        "plt.title('L1 Regularization Coefficients')\n",
        "plt.xticks(rotation=45)\n",
        "plt.show()\n"
      ],
      "metadata": {
        "id": "TVqYEygAf2jD"
      },
      "execution_count": null,
      "outputs": []
    }
  ]
}